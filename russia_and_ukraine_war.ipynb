{
  "nbformat": 4,
  "nbformat_minor": 0,
  "metadata": {
    "colab": {
      "name": "russia and ukraine war",
      "private_outputs": true,
      "provenance": [],
      "collapsed_sections": [],
      "authorship_tag": "ABX9TyOwyRyyhM4/J0/sjEkVNs3/",
      "include_colab_link": true
    },
    "kernelspec": {
      "name": "python3",
      "display_name": "Python 3"
    },
    "language_info": {
      "name": "python"
    }
  },
  "cells": [
    {
      "cell_type": "markdown",
      "metadata": {
        "id": "view-in-github",
        "colab_type": "text"
      },
      "source": [
        "<a href=\"https://colab.research.google.com/github/iloveyou100/data/blob/main/russia_and_ukraine_war.ipynb\" target=\"_parent\"><img src=\"https://colab.research.google.com/assets/colab-badge.svg\" alt=\"Open In Colab\"/></a>"
      ]
    },
    {
      "cell_type": "code",
      "execution_count": null,
      "metadata": {
        "id": "ma2njX0Fk8ti"
      },
      "outputs": [],
      "source": [
        "import pandas as pd\n",
        "gleen = pd.read_csv(\"/content/russia_losses_equipment.csv\")\n"
      ]
    },
    {
      "cell_type": "code",
      "source": [
        "gleen.head()"
      ],
      "metadata": {
        "id": "kTR8GKkzlvtL"
      },
      "execution_count": null,
      "outputs": []
    },
    {
      "cell_type": "code",
      "source": [
        "gleen.shape"
      ],
      "metadata": {
        "id": "_dCP1cIIlyeq"
      },
      "execution_count": null,
      "outputs": []
    },
    {
      "cell_type": "code",
      "source": [
        "gleen.dtypes"
      ],
      "metadata": {
        "id": "MIGAmOJOm0cL"
      },
      "execution_count": null,
      "outputs": []
    },
    {
      "cell_type": "code",
      "source": [
        "correlations = gleen.corr()"
      ],
      "metadata": {
        "id": "fhOM5h4Mrkl9"
      },
      "execution_count": null,
      "outputs": []
    },
    {
      "cell_type": "code",
      "source": [
        "import seaborn as sns\n",
        "sns.heatmap(correlations, annot=True, vmin=-1, vmax=1, center=0, cmap='coolwarm',)\n"
      ],
      "metadata": {
        "id": "9j_mBYhlrvA7"
      },
      "execution_count": null,
      "outputs": []
    },
    {
      "cell_type": "code",
      "source": [
        "print(gleen.skew())"
      ],
      "metadata": {
        "id": "PMSiMr97sC_-"
      },
      "execution_count": null,
      "outputs": []
    },
    {
      "cell_type": "code",
      "source": [
        "pd.set_option('precision',2)\n",
        "print(gleen.describe())"
      ],
      "metadata": {
        "id": "YajI6TkxsGjO"
      },
      "execution_count": null,
      "outputs": []
    },
    {
      "cell_type": "code",
      "source": [
        ""
      ],
      "metadata": {
        "id": "Fo9ok6LlsMR1"
      },
      "execution_count": null,
      "outputs": []
    }
  ]
}