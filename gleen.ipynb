{
  "nbformat": 4,
  "nbformat_minor": 0,
  "metadata": {
    "colab": {
      "name": "Untitled5.ipynb",
      "private_outputs": true,
      "provenance": [],
      "collapsed_sections": [],
      "mount_file_id": "1k-E6dbVdEFOQnLaAWd73tPuc_KglVbLU",
      "authorship_tag": "ABX9TyPpXFyVkMJvHSJGPXnt42Of",
      "include_colab_link": true
    },
    "kernelspec": {
      "name": "python3",
      "display_name": "Python 3"
    },
    "language_info": {
      "name": "python"
    }
  },
  "cells": [
    {
      "cell_type": "markdown",
      "metadata": {
        "id": "view-in-github",
        "colab_type": "text"
      },
      "source": [
        "<a href=\"https://colab.research.google.com/github/iloveyou100/data/blob/main/gleen.ipynb\" target=\"_parent\"><img src=\"https://colab.research.google.com/assets/colab-badge.svg\" alt=\"Open In Colab\"/></a>"
      ]
    },
    {
      "cell_type": "code",
      "source": [
        "from google.colab import drive\n",
        "drive.mount('/content/drive')"
      ],
      "metadata": {
        "id": "9pzZPKoHqu-y"
      },
      "execution_count": null,
      "outputs": []
    },
    {
      "cell_type": "code",
      "source": [
        "import pandas as pd\n",
        "gleen =pd.read_csv(\"/content/drive/MyDrive/machine final.csv\")"
      ],
      "metadata": {
        "id": "bQkLd4ZIrFep"
      },
      "execution_count": null,
      "outputs": []
    },
    {
      "cell_type": "code",
      "source": [
        "gleen.head()"
      ],
      "metadata": {
        "id": "oMouGgPCrTB_"
      },
      "execution_count": null,
      "outputs": []
    },
    {
      "cell_type": "code",
      "source": [
        "print(gleen.shape)"
      ],
      "metadata": {
        "id": "oi3iqp12rvqF"
      },
      "execution_count": null,
      "outputs": []
    },
    {
      "cell_type": "code",
      "source": [
        "print(gleen.dtypes)"
      ],
      "metadata": {
        "id": "T5S5O6Ibr2DX"
      },
      "execution_count": null,
      "outputs": []
    },
    {
      "cell_type": "code",
      "source": [
        "correlations = gleen.corr()"
      ],
      "metadata": {
        "id": "rwV_inU9r-tT"
      },
      "execution_count": null,
      "outputs": []
    },
    {
      "cell_type": "code",
      "source": [
        "import seaborn as sns\n",
        "sns.heatmap(gleen.corr())\n"
      ],
      "metadata": {
        "id": "-9oM1qGIy___"
      },
      "execution_count": null,
      "outputs": []
    },
    {
      "cell_type": "code",
      "source": [
        "import seaborn as sns\n",
        "sns.heatmap(correlations, annot=True, vmin=-1, vmax=1, center=0, cmap='coolwarm',)"
      ],
      "metadata": {
        "id": "ulRpONaK4LZT"
      },
      "execution_count": null,
      "outputs": []
    },
    {
      "cell_type": "code",
      "source": [
        "\n",
        "print(gleen.skew())"
      ],
      "metadata": {
        "id": "FWRfj2m16E7G"
      },
      "execution_count": null,
      "outputs": []
    },
    {
      "cell_type": "code",
      "source": [
        "pd.set_option('precision', 2) \n",
        "print(gleen.describe())"
      ],
      "metadata": {
        "id": "zSDERtFZ-J1g"
      },
      "execution_count": null,
      "outputs": []
    }
  ]
}