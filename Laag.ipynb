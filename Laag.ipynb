{
  "nbformat": 4,
  "nbformat_minor": 0,
  "metadata": {
    "colab": {
      "name": "Laag.ipynb",
      "private_outputs": true,
      "provenance": [],
      "authorship_tag": "ABX9TyOfVW3T2LoOpH9WLBAfHkbb",
      "include_colab_link": true
    },
    "kernelspec": {
      "name": "python3",
      "display_name": "Python 3"
    },
    "language_info": {
      "name": "python"
    }
  },
  "cells": [
    {
      "cell_type": "markdown",
      "metadata": {
        "id": "view-in-github",
        "colab_type": "text"
      },
      "source": [
        "<a href=\"https://colab.research.google.com/github/iloveyou100/data/blob/main/Laag.ipynb\" target=\"_parent\"><img src=\"https://colab.research.google.com/assets/colab-badge.svg\" alt=\"Open In Colab\"/></a>"
      ]
    },
    {
      "cell_type": "code",
      "metadata": {
        "id": "Axk5zbAZpAIQ"
      },
      "source": [
        "from google.colab import files\n",
        "\n",
        "Uploaded = files.upload()"
      ],
      "execution_count": null,
      "outputs": []
    },
    {
      "cell_type": "code",
      "metadata": {
        "id": "T-QMml5hslDa"
      },
      "source": [
        "import pandas as pd\n",
        "Laag=pd.read_csv('Laag .csv')\n",
        "Laag"
      ],
      "execution_count": null,
      "outputs": []
    }
  ]
}