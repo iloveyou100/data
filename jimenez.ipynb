{
  "nbformat": 4,
  "nbformat_minor": 0,
  "metadata": {
    "colab": {
      "name": "jimenez",
      "private_outputs": true,
      "provenance": [],
      "mount_file_id": "1cK_xb0jhfoMUZLfgQ6rBjhyshSR0_6gF",
      "authorship_tag": "ABX9TyNHPDGj2xinUCKBFuC2La+2",
      "include_colab_link": true
    },
    "kernelspec": {
      "name": "python3",
      "display_name": "Python 3"
    },
    "language_info": {
      "name": "python"
    }
  },
  "cells": [
    {
      "cell_type": "markdown",
      "metadata": {
        "id": "view-in-github",
        "colab_type": "text"
      },
      "source": [
        "<a href=\"https://colab.research.google.com/github/iloveyou100/data/blob/main/jimenez.ipynb\" target=\"_parent\"><img src=\"https://colab.research.google.com/assets/colab-badge.svg\" alt=\"Open In Colab\"/></a>"
      ]
    },
    {
      "cell_type": "code",
      "execution_count": null,
      "metadata": {
        "id": "drRURcAeZMbC"
      },
      "outputs": [],
      "source": [
        "import pandas as pd\n",
        "jimenez =pd.read_csv(\"/content/mcs_ds_edited_iter_shuffled.csv\")"
      ]
    },
    {
      "cell_type": "code",
      "source": [
        "jimenez.head()"
      ],
      "metadata": {
        "id": "hPWR2CAEaLDz"
      },
      "execution_count": null,
      "outputs": []
    },
    {
      "cell_type": "code",
      "source": [
        "print(jimenez.shape)"
      ],
      "metadata": {
        "id": "tZXhZ-fVaV-p"
      },
      "execution_count": null,
      "outputs": []
    },
    {
      "cell_type": "code",
      "source": [
        "print(jimenez.dtypes)"
      ],
      "metadata": {
        "id": "5q0NbEc0af-K"
      },
      "execution_count": null,
      "outputs": []
    },
    {
      "cell_type": "code",
      "source": [
        "correlations = jimenez.corr()"
      ],
      "metadata": {
        "id": "nBz8kNYoanex"
      },
      "execution_count": null,
      "outputs": []
    },
    {
      "cell_type": "code",
      "source": [
        "import seaborn as sns\n",
        "sns.heatmap(jimenez.corr())"
      ],
      "metadata": {
        "id": "4egMdS5IazOh"
      },
      "execution_count": null,
      "outputs": []
    },
    {
      "cell_type": "code",
      "source": [
        "import seaborn as sns\n",
        "sns.heatmap(correlations, annot=True, vmin=-1, vmax=1, center=0, cmap='coolwarm',)"
      ],
      "metadata": {
        "id": "lrFiQZuUa5fy"
      },
      "execution_count": null,
      "outputs": []
    },
    {
      "cell_type": "code",
      "source": [
        "print(jimenez.skew())"
      ],
      "metadata": {
        "id": "mht-A15obE4Y"
      },
      "execution_count": null,
      "outputs": []
    },
    {
      "cell_type": "code",
      "source": [
        "pd.set_option('precision', 2) \n",
        "print(jimenez.describe())"
      ],
      "metadata": {
        "id": "-YlH2YSUbPLo"
      },
      "execution_count": null,
      "outputs": []
    }
  ]
}